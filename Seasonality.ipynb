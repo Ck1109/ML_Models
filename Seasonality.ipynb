{
  "nbformat": 4,
  "nbformat_minor": 0,
  "metadata": {
    "colab": {
      "provenance": []
    },
    "kernelspec": {
      "name": "python3",
      "display_name": "Python 3"
    },
    "language_info": {
      "name": "python"
    }
  },
  "cells": [
    {
      "cell_type": "code",
      "execution_count": 2,
      "metadata": {
        "id": "LeIXnSChXeZq"
      },
      "outputs": [],
      "source": [
        "import numpy as np\n",
        "import matplotlib.pyplot as plt\n",
        "import pandas as pd\n",
        "import math\n",
        "from sklearn.preprocessing import MinMaxScaler\n",
        "from sklearn.metrics import mean_squared_error\n",
        "from keras.models import Sequential\n",
        "from keras.layers import Dense, Activation\n",
        "from keras.layers import LSTM\n",
        "import pandas as pd\n",
        "from datetime import timedelta \n",
        "import pickle\n",
        "import statsmodels.api as sm"
      ]
    },
    {
      "cell_type": "code",
      "source": [
        "def Replace_Outliers(l1):\n",
        "    l1 = pd.DataFrame({'col': l1})\n",
        "    Q1 = np.percentile(l1, 25, interpolation='midpoint')\n",
        "    Q3 = np.percentile(l1, 75, interpolation='midpoint')\n",
        "\n",
        "    IQR = Q3 - Q1\n",
        "    df2 = pd.DataFrame(l1)\n",
        "    outliers = l1[((l1 < (Q1 - 1.5 * IQR)) | (l1 > (Q3 + 1.5 * IQR)))]\n",
        "    outliers.dropna(inplace=True, axis=0)\n",
        "    # df=outliers\n",
        "\n",
        "    outliers = list(outliers.values)\n",
        "    rep = np.median(l1)\n",
        "    df2[df2.columns[0]] = df2[df2.columns[0]].replace(outliers, rep)\n",
        "\n",
        "    #   return list(outliers.flatten())\n",
        "    return list(df2.values.flatten())\n"
      ],
      "metadata": {
        "id": "0aKNbddRYH4_"
      },
      "execution_count": 3,
      "outputs": []
    },
    {
      "cell_type": "code",
      "source": [
        "sales_data = pd.read_excel('/content/cona_sample.xlsx')\n"
      ],
      "metadata": {
        "id": "YA1rZpAXYp7r"
      },
      "execution_count": 4,
      "outputs": []
    },
    {
      "cell_type": "code",
      "source": [
        "sales_data"
      ],
      "metadata": {
        "colab": {
          "base_uri": "https://localhost:8080/",
          "height": 423
        },
        "id": "R9VoFxibZ7VM",
        "outputId": "a4cab2dc-c7b9-4344-d788-720ae4dae8fb"
      },
      "execution_count": 5,
      "outputs": [
        {
          "output_type": "execute_result",
          "data": {
            "text/plain": [
              "       inv_invoice_date  inv_itemwise_value_reporting_amount\n",
              "0            2021-04-06                              1330.92\n",
              "1            2021-04-06                              3363.60\n",
              "2            2022-04-04                               579.60\n",
              "3            2022-04-04                              1464.48\n",
              "4            2022-04-04                              1464.48\n",
              "...                 ...                                  ...\n",
              "683422       2021-12-31                               849.80\n",
              "683423       2021-12-31                               974.60\n",
              "683424       2022-11-18                             10374.00\n",
              "683425       2022-11-18                              -600.03\n",
              "683426       2022-11-18                              6040.80\n",
              "\n",
              "[683427 rows x 2 columns]"
            ],
            "text/html": [
              "\n",
              "  <div id=\"df-7296eb03-9b01-4026-a00c-88d21709fcb0\">\n",
              "    <div class=\"colab-df-container\">\n",
              "      <div>\n",
              "<style scoped>\n",
              "    .dataframe tbody tr th:only-of-type {\n",
              "        vertical-align: middle;\n",
              "    }\n",
              "\n",
              "    .dataframe tbody tr th {\n",
              "        vertical-align: top;\n",
              "    }\n",
              "\n",
              "    .dataframe thead th {\n",
              "        text-align: right;\n",
              "    }\n",
              "</style>\n",
              "<table border=\"1\" class=\"dataframe\">\n",
              "  <thead>\n",
              "    <tr style=\"text-align: right;\">\n",
              "      <th></th>\n",
              "      <th>inv_invoice_date</th>\n",
              "      <th>inv_itemwise_value_reporting_amount</th>\n",
              "    </tr>\n",
              "  </thead>\n",
              "  <tbody>\n",
              "    <tr>\n",
              "      <th>0</th>\n",
              "      <td>2021-04-06</td>\n",
              "      <td>1330.92</td>\n",
              "    </tr>\n",
              "    <tr>\n",
              "      <th>1</th>\n",
              "      <td>2021-04-06</td>\n",
              "      <td>3363.60</td>\n",
              "    </tr>\n",
              "    <tr>\n",
              "      <th>2</th>\n",
              "      <td>2022-04-04</td>\n",
              "      <td>579.60</td>\n",
              "    </tr>\n",
              "    <tr>\n",
              "      <th>3</th>\n",
              "      <td>2022-04-04</td>\n",
              "      <td>1464.48</td>\n",
              "    </tr>\n",
              "    <tr>\n",
              "      <th>4</th>\n",
              "      <td>2022-04-04</td>\n",
              "      <td>1464.48</td>\n",
              "    </tr>\n",
              "    <tr>\n",
              "      <th>...</th>\n",
              "      <td>...</td>\n",
              "      <td>...</td>\n",
              "    </tr>\n",
              "    <tr>\n",
              "      <th>683422</th>\n",
              "      <td>2021-12-31</td>\n",
              "      <td>849.80</td>\n",
              "    </tr>\n",
              "    <tr>\n",
              "      <th>683423</th>\n",
              "      <td>2021-12-31</td>\n",
              "      <td>974.60</td>\n",
              "    </tr>\n",
              "    <tr>\n",
              "      <th>683424</th>\n",
              "      <td>2022-11-18</td>\n",
              "      <td>10374.00</td>\n",
              "    </tr>\n",
              "    <tr>\n",
              "      <th>683425</th>\n",
              "      <td>2022-11-18</td>\n",
              "      <td>-600.03</td>\n",
              "    </tr>\n",
              "    <tr>\n",
              "      <th>683426</th>\n",
              "      <td>2022-11-18</td>\n",
              "      <td>6040.80</td>\n",
              "    </tr>\n",
              "  </tbody>\n",
              "</table>\n",
              "<p>683427 rows × 2 columns</p>\n",
              "</div>\n",
              "      <button class=\"colab-df-convert\" onclick=\"convertToInteractive('df-7296eb03-9b01-4026-a00c-88d21709fcb0')\"\n",
              "              title=\"Convert this dataframe to an interactive table.\"\n",
              "              style=\"display:none;\">\n",
              "        \n",
              "  <svg xmlns=\"http://www.w3.org/2000/svg\" height=\"24px\"viewBox=\"0 0 24 24\"\n",
              "       width=\"24px\">\n",
              "    <path d=\"M0 0h24v24H0V0z\" fill=\"none\"/>\n",
              "    <path d=\"M18.56 5.44l.94 2.06.94-2.06 2.06-.94-2.06-.94-.94-2.06-.94 2.06-2.06.94zm-11 1L8.5 8.5l.94-2.06 2.06-.94-2.06-.94L8.5 2.5l-.94 2.06-2.06.94zm10 10l.94 2.06.94-2.06 2.06-.94-2.06-.94-.94-2.06-.94 2.06-2.06.94z\"/><path d=\"M17.41 7.96l-1.37-1.37c-.4-.4-.92-.59-1.43-.59-.52 0-1.04.2-1.43.59L10.3 9.45l-7.72 7.72c-.78.78-.78 2.05 0 2.83L4 21.41c.39.39.9.59 1.41.59.51 0 1.02-.2 1.41-.59l7.78-7.78 2.81-2.81c.8-.78.8-2.07 0-2.86zM5.41 20L4 18.59l7.72-7.72 1.47 1.35L5.41 20z\"/>\n",
              "  </svg>\n",
              "      </button>\n",
              "      \n",
              "  <style>\n",
              "    .colab-df-container {\n",
              "      display:flex;\n",
              "      flex-wrap:wrap;\n",
              "      gap: 12px;\n",
              "    }\n",
              "\n",
              "    .colab-df-convert {\n",
              "      background-color: #E8F0FE;\n",
              "      border: none;\n",
              "      border-radius: 50%;\n",
              "      cursor: pointer;\n",
              "      display: none;\n",
              "      fill: #1967D2;\n",
              "      height: 32px;\n",
              "      padding: 0 0 0 0;\n",
              "      width: 32px;\n",
              "    }\n",
              "\n",
              "    .colab-df-convert:hover {\n",
              "      background-color: #E2EBFA;\n",
              "      box-shadow: 0px 1px 2px rgba(60, 64, 67, 0.3), 0px 1px 3px 1px rgba(60, 64, 67, 0.15);\n",
              "      fill: #174EA6;\n",
              "    }\n",
              "\n",
              "    [theme=dark] .colab-df-convert {\n",
              "      background-color: #3B4455;\n",
              "      fill: #D2E3FC;\n",
              "    }\n",
              "\n",
              "    [theme=dark] .colab-df-convert:hover {\n",
              "      background-color: #434B5C;\n",
              "      box-shadow: 0px 1px 3px 1px rgba(0, 0, 0, 0.15);\n",
              "      filter: drop-shadow(0px 1px 2px rgba(0, 0, 0, 0.3));\n",
              "      fill: #FFFFFF;\n",
              "    }\n",
              "  </style>\n",
              "\n",
              "      <script>\n",
              "        const buttonEl =\n",
              "          document.querySelector('#df-7296eb03-9b01-4026-a00c-88d21709fcb0 button.colab-df-convert');\n",
              "        buttonEl.style.display =\n",
              "          google.colab.kernel.accessAllowed ? 'block' : 'none';\n",
              "\n",
              "        async function convertToInteractive(key) {\n",
              "          const element = document.querySelector('#df-7296eb03-9b01-4026-a00c-88d21709fcb0');\n",
              "          const dataTable =\n",
              "            await google.colab.kernel.invokeFunction('convertToInteractive',\n",
              "                                                     [key], {});\n",
              "          if (!dataTable) return;\n",
              "\n",
              "          const docLinkHtml = 'Like what you see? Visit the ' +\n",
              "            '<a target=\"_blank\" href=https://colab.research.google.com/notebooks/data_table.ipynb>data table notebook</a>'\n",
              "            + ' to learn more about interactive tables.';\n",
              "          element.innerHTML = '';\n",
              "          dataTable['output_type'] = 'display_data';\n",
              "          await google.colab.output.renderOutput(dataTable, element);\n",
              "          const docLink = document.createElement('div');\n",
              "          docLink.innerHTML = docLinkHtml;\n",
              "          element.appendChild(docLink);\n",
              "        }\n",
              "      </script>\n",
              "    </div>\n",
              "  </div>\n",
              "  "
            ]
          },
          "metadata": {},
          "execution_count": 5
        }
      ]
    },
    {
      "cell_type": "code",
      "source": [
        "sales_data['inv_invoice_date'] = pd.to_datetime(sales_data['inv_invoice_date'])\n",
        "sales_data.set_index('inv_invoice_date', inplace=True)"
      ],
      "metadata": {
        "id": "HPi7Suc5ZjzE"
      },
      "execution_count": 6,
      "outputs": []
    },
    {
      "cell_type": "code",
      "source": [
        "sales_data_monthly = sales_data.resample('q').sum()"
      ],
      "metadata": {
        "id": "ftYjKcA8aErx"
      },
      "execution_count": 10,
      "outputs": []
    },
    {
      "cell_type": "code",
      "source": [
        "plt.plot(sales_data_monthly)\n",
        "plt.show()"
      ],
      "metadata": {
        "colab": {
          "base_uri": "https://localhost:8080/",
          "height": 276
        },
        "id": "ctYAuWMHaNWu",
        "outputId": "8fd8eba7-1d09-4a53-c58d-451422a9863f"
      },
      "execution_count": 11,
      "outputs": [
        {
          "output_type": "display_data",
          "data": {
            "text/plain": [
              "<Figure size 432x288 with 1 Axes>"
            ],
            "image/png": "[encoded data removed]"
          },
          "metadata": {
            "needs_background": "light"
          }
        }
      ]
    },
    {
      "cell_type": "code",
      "source": [
        "decomposition = sm.tsa.seasonal_decompose(sales_data_monthly, model='additive')"
      ],
      "metadata": {
        "id": "-JG0PS9ZaPSf"
      },
      "execution_count": 12,
      "outputs": []
    },
    {
      "cell_type": "code",
      "source": [
        "decomposition.plot()\n",
        "plt.show()"
      ],
      "metadata": {
        "colab": {
          "base_uri": "https://localhost:8080/",
          "height": 297
        },
        "id": "dDdHfXeFaRfR",
        "outputId": "4e69440d-2526-4e0d-de55-dd3b03a06ef7"
      },
      "execution_count": 13,
      "outputs": [
        {
          "output_type": "display_data",
          "data": {
            "text/plain": [
              "<Figure size 432x288 with 4 Axes>"
            ],
            "image/png": "[encoded data removed]"
          },
          "metadata": {
            "needs_background": "light"
          }
        }
      ]
    },
    {
      "cell_type": "code",
      "source": [
        "decomposition.observed"
      ],
      "metadata": {
        "colab": {
          "base_uri": "https://localhost:8080/"
        },
        "id": "rNBfz8yebjj3",
        "outputId": "889f7a61-9d59-4dba-f83a-62758fabc907"
      },
      "execution_count": 17,
      "outputs": [
        {
          "output_type": "execute_result",
          "data": {
            "text/plain": [
              "inv_invoice_date\n",
              "2021-06-30    4.436119e+08\n",
              "2021-09-30    6.461499e+08\n",
              "2021-12-31    6.086691e+08\n",
              "2022-03-31    7.285869e+08\n",
              "2022-06-30    7.300488e+08\n",
              "2022-09-30    6.749487e+08\n",
              "2022-12-31    6.992456e+08\n",
              "2023-03-31    2.417754e+08\n",
              "Freq: Q-DEC, dtype: float64"
            ]
          },
          "metadata": {},
          "execution_count": 17
        }
      ]
    },
    {
      "cell_type": "code",
      "source": [],
      "metadata": {
        "id": "nG3U6av4bwnO"
      },
      "execution_count": null,
      "outputs": []
    }
  ]
}